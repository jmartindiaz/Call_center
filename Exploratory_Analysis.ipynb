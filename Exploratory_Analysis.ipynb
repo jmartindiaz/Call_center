{
 "cells": [
  {
   "cell_type": "markdown",
   "metadata": {},
   "source": [
    " ### Aqui realizaremos un analisis exploratorio de los datos y sacaremos algunas conclusiones"
   ]
  },
  {
   "cell_type": "markdown",
   "metadata": {},
   "source": [
    "##### Importamos los modulos necesarios para el analisis:\n"
   ]
  },
  {
   "cell_type": "code",
   "execution_count": 3,
   "metadata": {},
   "outputs": [],
   "source": [
    "from sklearn.linear_model import LogisticRegression # para probar\n",
    "\n",
    "import pandas as pd # para ligeras modificaciones y limpieza de datos\n",
    "import numpy as np # para operaciones matematicas\n",
    "import matplotlib.pyplot as plt # para graficar\n",
    "import seaborn as sns # para usar la funcion pairplot"
   ]
  },
  {
   "cell_type": "markdown",
   "metadata": {},
   "source": [
    "- Cargamos la fuente de datos"
   ]
  },
  {
   "cell_type": "code",
   "execution_count": 4,
   "metadata": {},
   "outputs": [
    {
     "name": "stderr",
     "output_type": "stream",
     "text": [
      "C:\\Users\\Martin\\AppData\\Local\\Temp\\ipykernel_14744\\861341683.py:1: DtypeWarning: Columns (2) have mixed types. Specify dtype option on import or set low_memory=False.\n",
      "  df = pd.read_csv(r'Call_Center_1999_DataSet.csv', delimiter=';')\n"
     ]
    },
    {
     "data": {
      "text/html": [
       "<div>\n",
       "<style scoped>\n",
       "    .dataframe tbody tr th:only-of-type {\n",
       "        vertical-align: middle;\n",
       "    }\n",
       "\n",
       "    .dataframe tbody tr th {\n",
       "        vertical-align: top;\n",
       "    }\n",
       "\n",
       "    .dataframe thead th {\n",
       "        text-align: right;\n",
       "    }\n",
       "</style>\n",
       "<table border=\"1\" class=\"dataframe\">\n",
       "  <thead>\n",
       "    <tr style=\"text-align: right;\">\n",
       "      <th></th>\n",
       "      <th>vru.line</th>\n",
       "      <th>call_id</th>\n",
       "      <th>customer_id</th>\n",
       "      <th>priority</th>\n",
       "      <th>type</th>\n",
       "      <th>date</th>\n",
       "      <th>vru_entry</th>\n",
       "      <th>vru_exit</th>\n",
       "      <th>vru_time</th>\n",
       "      <th>q_start</th>\n",
       "      <th>q_exit</th>\n",
       "      <th>q_time</th>\n",
       "      <th>outcome</th>\n",
       "      <th>ser_start</th>\n",
       "      <th>ser_exit</th>\n",
       "      <th>ser_time</th>\n",
       "      <th>server</th>\n",
       "      <th>startdate</th>\n",
       "    </tr>\n",
       "  </thead>\n",
       "  <tbody>\n",
       "    <tr>\n",
       "      <th>0</th>\n",
       "      <td>AA0101</td>\n",
       "      <td>33116</td>\n",
       "      <td>9664491.0</td>\n",
       "      <td>2</td>\n",
       "      <td>PS</td>\n",
       "      <td>1999-01-01</td>\n",
       "      <td>0:00:31</td>\n",
       "      <td>0:00:36</td>\n",
       "      <td>5</td>\n",
       "      <td>0:00:36</td>\n",
       "      <td>0:03:09</td>\n",
       "      <td>153</td>\n",
       "      <td>HANG</td>\n",
       "      <td>0:00:00</td>\n",
       "      <td>0:00:00</td>\n",
       "      <td>0</td>\n",
       "      <td>NO_SERVER</td>\n",
       "      <td>0</td>\n",
       "    </tr>\n",
       "    <tr>\n",
       "      <th>1</th>\n",
       "      <td>AA0101</td>\n",
       "      <td>33117</td>\n",
       "      <td>0.0</td>\n",
       "      <td>0</td>\n",
       "      <td>PS</td>\n",
       "      <td>1999-01-01</td>\n",
       "      <td>0:34:12</td>\n",
       "      <td>0:34:23</td>\n",
       "      <td>11</td>\n",
       "      <td>0:00:00</td>\n",
       "      <td>0:00:00</td>\n",
       "      <td>0</td>\n",
       "      <td>HANG</td>\n",
       "      <td>0:00:00</td>\n",
       "      <td>0:00:00</td>\n",
       "      <td>0</td>\n",
       "      <td>NO_SERVER</td>\n",
       "      <td>0</td>\n",
       "    </tr>\n",
       "    <tr>\n",
       "      <th>2</th>\n",
       "      <td>AA0101</td>\n",
       "      <td>33118</td>\n",
       "      <td>27997683.0</td>\n",
       "      <td>2</td>\n",
       "      <td>PS</td>\n",
       "      <td>1999-01-01</td>\n",
       "      <td>6:55:20</td>\n",
       "      <td>6:55:26</td>\n",
       "      <td>6</td>\n",
       "      <td>6:55:26</td>\n",
       "      <td>6:55:43</td>\n",
       "      <td>17</td>\n",
       "      <td>AGENT</td>\n",
       "      <td>6:55:43</td>\n",
       "      <td>6:56:37</td>\n",
       "      <td>54</td>\n",
       "      <td>MICHAL</td>\n",
       "      <td>0</td>\n",
       "    </tr>\n",
       "    <tr>\n",
       "      <th>3</th>\n",
       "      <td>AA0101</td>\n",
       "      <td>33119</td>\n",
       "      <td>0.0</td>\n",
       "      <td>0</td>\n",
       "      <td>PS</td>\n",
       "      <td>1999-01-01</td>\n",
       "      <td>7:41:16</td>\n",
       "      <td>7:41:26</td>\n",
       "      <td>10</td>\n",
       "      <td>0:00:00</td>\n",
       "      <td>0:00:00</td>\n",
       "      <td>0</td>\n",
       "      <td>AGENT</td>\n",
       "      <td>7:41:25</td>\n",
       "      <td>7:44:53</td>\n",
       "      <td>208</td>\n",
       "      <td>BASCH</td>\n",
       "      <td>0</td>\n",
       "    </tr>\n",
       "  </tbody>\n",
       "</table>\n",
       "</div>"
      ],
      "text/plain": [
       "  vru.line  call_id customer_id  priority type        date vru_entry vru_exit  \\\n",
       "0   AA0101    33116   9664491.0         2   PS  1999-01-01   0:00:31  0:00:36   \n",
       "1   AA0101    33117         0.0         0   PS  1999-01-01   0:34:12  0:34:23   \n",
       "2   AA0101    33118  27997683.0         2   PS  1999-01-01   6:55:20  6:55:26   \n",
       "3   AA0101    33119         0.0         0   PS  1999-01-01   7:41:16  7:41:26   \n",
       "\n",
       "   vru_time  q_start   q_exit  q_time outcome ser_start ser_exit  ser_time  \\\n",
       "0         5  0:00:36  0:03:09     153    HANG   0:00:00  0:00:00         0   \n",
       "1        11  0:00:00  0:00:00       0    HANG   0:00:00  0:00:00         0   \n",
       "2         6  6:55:26  6:55:43      17   AGENT   6:55:43  6:56:37        54   \n",
       "3        10  0:00:00  0:00:00       0   AGENT   7:41:25  7:44:53       208   \n",
       "\n",
       "      server  startdate  \n",
       "0  NO_SERVER          0  \n",
       "1  NO_SERVER          0  \n",
       "2     MICHAL          0  \n",
       "3      BASCH          0  "
      ]
     },
     "execution_count": 4,
     "metadata": {},
     "output_type": "execute_result"
    }
   ],
   "source": [
    "df = pd.read_csv(r'Call_Center_1999_DataSet.csv', delimiter=';')\n",
    "df.head(4)\n"
   ]
  },
  {
   "attachments": {
    "image.png": {
     "image/png": "[encoded data removed]"
    }
   },
   "cell_type": "markdown",
   "metadata": {},
   "source": [
    "- Segun la informacion que nos brindaron:\n",
    "\n",
    "![image.png](attachment:image.png)"
   ]
  },
  {
   "cell_type": "code",
   "execution_count": 5,
   "metadata": {},
   "outputs": [
    {
     "name": "stdout",
     "output_type": "stream",
     "text": [
      "Se realizan en promedio 1217.67 llamadas por día\n"
     ]
    }
   ],
   "source": [
    "total_registros =  len(df)\n",
    "print(f'Se realizan en promedio {round(total_registros/365,2)} llamadas por día')"
   ]
  },
  {
   "cell_type": "markdown",
   "metadata": {},
   "source": [
    "- Revisamos el tipo de dato de cada campo y si hay datos nulos"
   ]
  },
  {
   "cell_type": "code",
   "execution_count": 6,
   "metadata": {},
   "outputs": [
    {
     "name": "stdout",
     "output_type": "stream",
     "text": [
      "<class 'pandas.core.frame.DataFrame'>\n",
      "RangeIndex: 444448 entries, 0 to 444447\n",
      "Data columns (total 18 columns):\n",
      " #   Column       Non-Null Count   Dtype \n",
      "---  ------       --------------   ----- \n",
      " 0   vru.line     444448 non-null  object\n",
      " 1   call_id      444448 non-null  int64 \n",
      " 2   customer_id  444448 non-null  object\n",
      " 3   priority     444448 non-null  int64 \n",
      " 4   type         444448 non-null  object\n",
      " 5   date         444448 non-null  object\n",
      " 6   vru_entry    444448 non-null  object\n",
      " 7   vru_exit     444448 non-null  object\n",
      " 8   vru_time     444448 non-null  int64 \n",
      " 9   q_start      444448 non-null  object\n",
      " 10  q_exit       444448 non-null  object\n",
      " 11  q_time       444448 non-null  int64 \n",
      " 12  outcome      444448 non-null  object\n",
      " 13  ser_start    444448 non-null  object\n",
      " 14  ser_exit     444448 non-null  object\n",
      " 15  ser_time     444448 non-null  int64 \n",
      " 16  server       444448 non-null  object\n",
      " 17  startdate    444448 non-null  int64 \n",
      "dtypes: int64(6), object(12)\n",
      "memory usage: 61.0+ MB\n"
     ]
    }
   ],
   "source": [
    "df.info() # revisamos los tipos de datos de cada campo"
   ]
  },
  {
   "attachments": {},
   "cell_type": "markdown",
   "metadata": {},
   "source": [
    "No hay datos nulos"
   ]
  },
  {
   "cell_type": "markdown",
   "metadata": {},
   "source": [
    "- A simple vista, podemos ver que los valores de **call_id** y de **vru.line** se repiten. A partir de la concatenacion de estas columnas vamos a crear un **id**"
   ]
  },
  {
   "cell_type": "code",
   "execution_count": 7,
   "metadata": {},
   "outputs": [
    {
     "data": {
      "text/html": [
       "<div>\n",
       "<style scoped>\n",
       "    .dataframe tbody tr th:only-of-type {\n",
       "        vertical-align: middle;\n",
       "    }\n",
       "\n",
       "    .dataframe tbody tr th {\n",
       "        vertical-align: top;\n",
       "    }\n",
       "\n",
       "    .dataframe thead th {\n",
       "        text-align: right;\n",
       "    }\n",
       "</style>\n",
       "<table border=\"1\" class=\"dataframe\">\n",
       "  <thead>\n",
       "    <tr style=\"text-align: right;\">\n",
       "      <th></th>\n",
       "      <th>vru.line</th>\n",
       "      <th>call_id</th>\n",
       "      <th>customer_id</th>\n",
       "      <th>priority</th>\n",
       "      <th>type</th>\n",
       "      <th>date</th>\n",
       "      <th>vru_entry</th>\n",
       "      <th>vru_exit</th>\n",
       "      <th>vru_time</th>\n",
       "      <th>q_start</th>\n",
       "      <th>q_exit</th>\n",
       "      <th>q_time</th>\n",
       "      <th>outcome</th>\n",
       "      <th>ser_start</th>\n",
       "      <th>ser_exit</th>\n",
       "      <th>ser_time</th>\n",
       "      <th>server</th>\n",
       "      <th>startdate</th>\n",
       "    </tr>\n",
       "  </thead>\n",
       "  <tbody>\n",
       "    <tr>\n",
       "      <th>1</th>\n",
       "      <td>AA0101</td>\n",
       "      <td>33117</td>\n",
       "      <td>0.0</td>\n",
       "      <td>0</td>\n",
       "      <td>PS</td>\n",
       "      <td>1999-01-01</td>\n",
       "      <td>0:34:12</td>\n",
       "      <td>0:34:23</td>\n",
       "      <td>11</td>\n",
       "      <td>0:00:00</td>\n",
       "      <td>0:00:00</td>\n",
       "      <td>0</td>\n",
       "      <td>HANG</td>\n",
       "      <td>0:00:00</td>\n",
       "      <td>0:00:00</td>\n",
       "      <td>0</td>\n",
       "      <td>NO_SERVER</td>\n",
       "      <td>0</td>\n",
       "    </tr>\n",
       "    <tr>\n",
       "      <th>14853</th>\n",
       "      <td>AA0202</td>\n",
       "      <td>33117</td>\n",
       "      <td>0.0</td>\n",
       "      <td>0</td>\n",
       "      <td>PS</td>\n",
       "      <td>1999-01-14</td>\n",
       "      <td>16:50:18</td>\n",
       "      <td>16:50:31</td>\n",
       "      <td>13</td>\n",
       "      <td>0:00:00</td>\n",
       "      <td>0:00:00</td>\n",
       "      <td>0</td>\n",
       "      <td>AGENT</td>\n",
       "      <td>16:50:30</td>\n",
       "      <td>16:52:46</td>\n",
       "      <td>136</td>\n",
       "      <td>ZOHARI</td>\n",
       "      <td>0</td>\n",
       "    </tr>\n",
       "    <tr>\n",
       "      <th>31152</th>\n",
       "      <td>AA0204</td>\n",
       "      <td>33117</td>\n",
       "      <td>0.0</td>\n",
       "      <td>0</td>\n",
       "      <td>NE</td>\n",
       "      <td>1999-01-31</td>\n",
       "      <td>13:31:27</td>\n",
       "      <td>13:31:39</td>\n",
       "      <td>12</td>\n",
       "      <td>0:00:00</td>\n",
       "      <td>0:00:00</td>\n",
       "      <td>0</td>\n",
       "      <td>AGENT</td>\n",
       "      <td>13:31:38</td>\n",
       "      <td>13:35:25</td>\n",
       "      <td>227</td>\n",
       "      <td>ELI</td>\n",
       "      <td>0</td>\n",
       "    </tr>\n",
       "    <tr>\n",
       "      <th>47118</th>\n",
       "      <td>AA0209</td>\n",
       "      <td>33117</td>\n",
       "      <td>0.0</td>\n",
       "      <td>0</td>\n",
       "      <td>NW</td>\n",
       "      <td>1999-02-12</td>\n",
       "      <td>10:44:35</td>\n",
       "      <td>10:44:44</td>\n",
       "      <td>9</td>\n",
       "      <td>10:44:44</td>\n",
       "      <td>10:47:57</td>\n",
       "      <td>193</td>\n",
       "      <td>HANG</td>\n",
       "      <td>0:00:00</td>\n",
       "      <td>0:00:00</td>\n",
       "      <td>0</td>\n",
       "      <td>NO_SERVER</td>\n",
       "      <td>31</td>\n",
       "    </tr>\n",
       "  </tbody>\n",
       "</table>\n",
       "</div>"
      ],
      "text/plain": [
       "      vru.line  call_id customer_id  priority type        date vru_entry  \\\n",
       "1       AA0101    33117         0.0         0   PS  1999-01-01   0:34:12   \n",
       "14853   AA0202    33117         0.0         0   PS  1999-01-14  16:50:18   \n",
       "31152   AA0204    33117         0.0         0   NE  1999-01-31  13:31:27   \n",
       "47118   AA0209    33117         0.0         0   NW  1999-02-12  10:44:35   \n",
       "\n",
       "       vru_exit  vru_time   q_start    q_exit  q_time outcome ser_start  \\\n",
       "1       0:34:23        11   0:00:00   0:00:00       0    HANG   0:00:00   \n",
       "14853  16:50:31        13   0:00:00   0:00:00       0   AGENT  16:50:30   \n",
       "31152  13:31:39        12   0:00:00   0:00:00       0   AGENT  13:31:38   \n",
       "47118  10:44:44         9  10:44:44  10:47:57     193    HANG   0:00:00   \n",
       "\n",
       "       ser_exit  ser_time     server  startdate  \n",
       "1       0:00:00         0  NO_SERVER          0  \n",
       "14853  16:52:46       136     ZOHARI          0  \n",
       "31152  13:35:25       227        ELI          0  \n",
       "47118   0:00:00         0  NO_SERVER         31  "
      ]
     },
     "execution_count": 7,
     "metadata": {},
     "output_type": "execute_result"
    }
   ],
   "source": [
    "df[df['call_id']== 33117].head(4)"
   ]
  },
  {
   "attachments": {},
   "cell_type": "markdown",
   "metadata": {},
   "source": [
    "    Los call_id se repiten pero notemos tambien que estan asignados a distintos VRUs"
   ]
  },
  {
   "attachments": {},
   "cell_type": "markdown",
   "metadata": {},
   "source": [
    "-----\n",
    "Nuestra columna **id** la crearemos de la siguiente forma:"
   ]
  },
  {
   "cell_type": "code",
   "execution_count": 8,
   "metadata": {},
   "outputs": [],
   "source": [
    "# arreglamos el tipo de dato de cada columna\n",
    "df['call_id'] = (df['call_id'].astype(int)).astype(str)\n",
    "df['vru.line'] = df['vru.line'].astype(str)"
   ]
  },
  {
   "cell_type": "code",
   "execution_count": 9,
   "metadata": {},
   "outputs": [
    {
     "data": {
      "text/plain": [
       "Index(['vru.line', 'call_id', 'customer_id', 'priority', 'type', 'date',\n",
       "       'vru_entry', 'vru_exit', 'vru_time', 'q_start', 'q_exit', 'q_time',\n",
       "       'outcome', 'ser_start', 'ser_exit', 'ser_time', 'server', 'startdate'],\n",
       "      dtype='object')"
      ]
     },
     "execution_count": 9,
     "metadata": {},
     "output_type": "execute_result"
    }
   ],
   "source": [
    "df.columns"
   ]
  },
  {
   "cell_type": "code",
   "execution_count": 10,
   "metadata": {},
   "outputs": [
    {
     "data": {
      "text/html": [
       "<div>\n",
       "<style scoped>\n",
       "    .dataframe tbody tr th:only-of-type {\n",
       "        vertical-align: middle;\n",
       "    }\n",
       "\n",
       "    .dataframe tbody tr th {\n",
       "        vertical-align: top;\n",
       "    }\n",
       "\n",
       "    .dataframe thead th {\n",
       "        text-align: right;\n",
       "    }\n",
       "</style>\n",
       "<table border=\"1\" class=\"dataframe\">\n",
       "  <thead>\n",
       "    <tr style=\"text-align: right;\">\n",
       "      <th></th>\n",
       "      <th>id</th>\n",
       "      <th>vru.line</th>\n",
       "      <th>call_id</th>\n",
       "      <th>customer_id</th>\n",
       "      <th>priority</th>\n",
       "      <th>type</th>\n",
       "      <th>date</th>\n",
       "      <th>vru_entry</th>\n",
       "      <th>vru_exit</th>\n",
       "      <th>vru_time</th>\n",
       "      <th>q_start</th>\n",
       "      <th>q_exit</th>\n",
       "      <th>q_time</th>\n",
       "      <th>outcome</th>\n",
       "      <th>ser_start</th>\n",
       "      <th>ser_exit</th>\n",
       "      <th>ser_time</th>\n",
       "      <th>server</th>\n",
       "      <th>startdate</th>\n",
       "    </tr>\n",
       "  </thead>\n",
       "  <tbody>\n",
       "    <tr>\n",
       "      <th>0</th>\n",
       "      <td>AA0101-33116</td>\n",
       "      <td>AA0101</td>\n",
       "      <td>33116</td>\n",
       "      <td>9664491.0</td>\n",
       "      <td>2</td>\n",
       "      <td>PS</td>\n",
       "      <td>1999-01-01</td>\n",
       "      <td>0:00:31</td>\n",
       "      <td>0:00:36</td>\n",
       "      <td>5</td>\n",
       "      <td>0:00:36</td>\n",
       "      <td>0:03:09</td>\n",
       "      <td>153</td>\n",
       "      <td>HANG</td>\n",
       "      <td>0:00:00</td>\n",
       "      <td>0:00:00</td>\n",
       "      <td>0</td>\n",
       "      <td>NO_SERVER</td>\n",
       "      <td>0</td>\n",
       "    </tr>\n",
       "    <tr>\n",
       "      <th>1</th>\n",
       "      <td>AA0101-33117</td>\n",
       "      <td>AA0101</td>\n",
       "      <td>33117</td>\n",
       "      <td>0.0</td>\n",
       "      <td>0</td>\n",
       "      <td>PS</td>\n",
       "      <td>1999-01-01</td>\n",
       "      <td>0:34:12</td>\n",
       "      <td>0:34:23</td>\n",
       "      <td>11</td>\n",
       "      <td>0:00:00</td>\n",
       "      <td>0:00:00</td>\n",
       "      <td>0</td>\n",
       "      <td>HANG</td>\n",
       "      <td>0:00:00</td>\n",
       "      <td>0:00:00</td>\n",
       "      <td>0</td>\n",
       "      <td>NO_SERVER</td>\n",
       "      <td>0</td>\n",
       "    </tr>\n",
       "    <tr>\n",
       "      <th>2</th>\n",
       "      <td>AA0101-33118</td>\n",
       "      <td>AA0101</td>\n",
       "      <td>33118</td>\n",
       "      <td>27997683.0</td>\n",
       "      <td>2</td>\n",
       "      <td>PS</td>\n",
       "      <td>1999-01-01</td>\n",
       "      <td>6:55:20</td>\n",
       "      <td>6:55:26</td>\n",
       "      <td>6</td>\n",
       "      <td>6:55:26</td>\n",
       "      <td>6:55:43</td>\n",
       "      <td>17</td>\n",
       "      <td>AGENT</td>\n",
       "      <td>6:55:43</td>\n",
       "      <td>6:56:37</td>\n",
       "      <td>54</td>\n",
       "      <td>MICHAL</td>\n",
       "      <td>0</td>\n",
       "    </tr>\n",
       "    <tr>\n",
       "      <th>3</th>\n",
       "      <td>AA0101-33119</td>\n",
       "      <td>AA0101</td>\n",
       "      <td>33119</td>\n",
       "      <td>0.0</td>\n",
       "      <td>0</td>\n",
       "      <td>PS</td>\n",
       "      <td>1999-01-01</td>\n",
       "      <td>7:41:16</td>\n",
       "      <td>7:41:26</td>\n",
       "      <td>10</td>\n",
       "      <td>0:00:00</td>\n",
       "      <td>0:00:00</td>\n",
       "      <td>0</td>\n",
       "      <td>AGENT</td>\n",
       "      <td>7:41:25</td>\n",
       "      <td>7:44:53</td>\n",
       "      <td>208</td>\n",
       "      <td>BASCH</td>\n",
       "      <td>0</td>\n",
       "    </tr>\n",
       "  </tbody>\n",
       "</table>\n",
       "</div>"
      ],
      "text/plain": [
       "             id vru.line call_id customer_id  priority type        date  \\\n",
       "0  AA0101-33116   AA0101   33116   9664491.0         2   PS  1999-01-01   \n",
       "1  AA0101-33117   AA0101   33117         0.0         0   PS  1999-01-01   \n",
       "2  AA0101-33118   AA0101   33118  27997683.0         2   PS  1999-01-01   \n",
       "3  AA0101-33119   AA0101   33119         0.0         0   PS  1999-01-01   \n",
       "\n",
       "  vru_entry vru_exit  vru_time  q_start   q_exit  q_time outcome ser_start  \\\n",
       "0   0:00:31  0:00:36         5  0:00:36  0:03:09     153    HANG   0:00:00   \n",
       "1   0:34:12  0:34:23        11  0:00:00  0:00:00       0    HANG   0:00:00   \n",
       "2   6:55:20  6:55:26         6  6:55:26  6:55:43      17   AGENT   6:55:43   \n",
       "3   7:41:16  7:41:26        10  0:00:00  0:00:00       0   AGENT   7:41:25   \n",
       "\n",
       "  ser_exit  ser_time     server  startdate  \n",
       "0  0:00:00         0  NO_SERVER          0  \n",
       "1  0:00:00         0  NO_SERVER          0  \n",
       "2  6:56:37        54     MICHAL          0  \n",
       "3  7:44:53       208      BASCH          0  "
      ]
     },
     "execution_count": 10,
     "metadata": {},
     "output_type": "execute_result"
    }
   ],
   "source": [
    "# concatenamos las columnas\n",
    "df['id'] = df['vru.line'] + '-' + df['call_id']\n",
    "\n",
    "## ordenamos todo el dataframe:\n",
    "df = df.reindex(columns=['id','vru.line', 'call_id', 'customer_id', 'priority', 'type', 'date',\n",
    "       'vru_entry', 'vru_exit', 'vru_time', 'q_start', 'q_exit', 'q_time',\n",
    "       'outcome', 'ser_start', 'ser_exit', 'ser_time', 'server', 'startdate'])\n",
    "df.head(4)\n"
   ]
  },
  {
   "attachments": {},
   "cell_type": "markdown",
   "metadata": {},
   "source": [
    "Verificamos que id_llamada solo tenga valores unicos:"
   ]
  },
  {
   "cell_type": "code",
   "execution_count": 11,
   "metadata": {},
   "outputs": [
    {
     "data": {
      "text/plain": [
       "444448"
      ]
     },
     "execution_count": 11,
     "metadata": {},
     "output_type": "execute_result"
    }
   ],
   "source": [
    "len(df['id'].unique())\n",
    "## Esta OK"
   ]
  },
  {
   "cell_type": "markdown",
   "metadata": {},
   "source": [
    "-----"
   ]
  },
  {
   "attachments": {
    "image.png": {
     "image/png": "[encoded data removed]"
    }
   },
   "cell_type": "markdown",
   "metadata": {},
   "source": [
    "- Analizamos el campo **customer_id**:\n",
    "\n",
    "![image.png](attachment:image.png)"
   ]
  },
  {
   "cell_type": "code",
   "execution_count": 12,
   "metadata": {},
   "outputs": [
    {
     "data": {
      "text/plain": [
       "0.0           178572\n",
       "0              55980\n",
       "58859752.0      1661\n",
       "58704610.0      1375\n",
       "7191646.0       1264\n",
       "               ...  \n",
       "22862023           1\n",
       "3100351.0          1\n",
       "53528683.0         1\n",
       "15571748.0         1\n",
       "53525267.0         1\n",
       "Name: customer_id, Length: 19048, dtype: int64"
      ]
     },
     "execution_count": 12,
     "metadata": {},
     "output_type": "execute_result"
    }
   ],
   "source": [
    "df['customer_id'].value_counts()\n",
    "# aca vemos que 0.0 y 0 no los toma como iguales, habra que transformar todo a un mismo tipo de datos"
   ]
  },
  {
   "cell_type": "code",
   "execution_count": 13,
   "metadata": {},
   "outputs": [
    {
     "name": "stderr",
     "output_type": "stream",
     "text": [
      "C:\\Users\\Martin\\AppData\\Local\\Temp\\ipykernel_14744\\3326034874.py:2: SettingWithCopyWarning: \n",
      "A value is trying to be set on a copy of a slice from a DataFrame\n",
      "\n",
      "See the caveats in the documentation: https://pandas.pydata.org/pandas-docs/stable/user_guide/indexing.html#returning-a-view-versus-a-copy\n",
      "  df['customer_id'][df['customer_id'] == '0'] = df['customer_id'][df['customer_id'] == '0'].astype(float) # transformo '0' a 0.0\n"
     ]
    },
    {
     "data": {
      "text/plain": [
       "0.0           234552\n",
       "58859752.0      1661\n",
       "58704610.0      1375\n",
       "7191646.0       1264\n",
       "52867744.0      1207\n",
       "               ...  \n",
       "36482305           1\n",
       "29571775           1\n",
       "55893531           1\n",
       "64876170           1\n",
       "53525267.0         1\n",
       "Name: customer_id, Length: 19047, dtype: int64"
      ]
     },
     "execution_count": 13,
     "metadata": {},
     "output_type": "execute_result"
    }
   ],
   "source": [
    "## A continuacion vamos a solucionar el problema que estamos teniendo para homogeinezar los campos que poseen '0'(string) con los que poseen 0.0 (float)\n",
    "df['customer_id'][df['customer_id'] == '0'] = df['customer_id'][df['customer_id'] == '0'].astype(float) # transformo '0' a 0.0\n",
    "# verificamos que esto se haya corregido:\n",
    "df['customer_id'].value_counts()\n",
    "## Quedo OK"
   ]
  },
  {
   "attachments": {},
   "cell_type": "markdown",
   "metadata": {},
   "source": [
    "De aqui podemos concluir que hay registros de *19047-1 = 19046* clientes identificados en este total de registros de llamadas, el *customer_id = 0.0* no se cuenta"
   ]
  },
  {
   "attachments": {},
   "cell_type": "markdown",
   "metadata": {},
   "source": [
    "**- Si 'customer_id' es 0, es porque el sistema no pudo identificar a la persona que realiza la llamada, es decir, podrian ser prospectos (potenciales clientes)**"
   ]
  },
  {
   "cell_type": "code",
   "execution_count": 14,
   "metadata": {},
   "outputs": [
    {
     "data": {
      "text/html": [
       "<div>\n",
       "<style scoped>\n",
       "    .dataframe tbody tr th:only-of-type {\n",
       "        vertical-align: middle;\n",
       "    }\n",
       "\n",
       "    .dataframe tbody tr th {\n",
       "        vertical-align: top;\n",
       "    }\n",
       "\n",
       "    .dataframe thead th {\n",
       "        text-align: right;\n",
       "    }\n",
       "</style>\n",
       "<table border=\"1\" class=\"dataframe\">\n",
       "  <thead>\n",
       "    <tr style=\"text-align: right;\">\n",
       "      <th></th>\n",
       "      <th>customer_id</th>\n",
       "      <th>frec_abs</th>\n",
       "      <th>frec_rel</th>\n",
       "      <th>frec_rel (%)</th>\n",
       "    </tr>\n",
       "  </thead>\n",
       "  <tbody>\n",
       "    <tr>\n",
       "      <th>0</th>\n",
       "      <td>0.0</td>\n",
       "      <td>234552</td>\n",
       "      <td>0.527738</td>\n",
       "      <td>52.773778</td>\n",
       "    </tr>\n",
       "    <tr>\n",
       "      <th>1</th>\n",
       "      <td>58859752.0</td>\n",
       "      <td>1661</td>\n",
       "      <td>0.003737</td>\n",
       "      <td>0.373722</td>\n",
       "    </tr>\n",
       "    <tr>\n",
       "      <th>2</th>\n",
       "      <td>58704610.0</td>\n",
       "      <td>1375</td>\n",
       "      <td>0.003094</td>\n",
       "      <td>0.309373</td>\n",
       "    </tr>\n",
       "    <tr>\n",
       "      <th>3</th>\n",
       "      <td>7191646.0</td>\n",
       "      <td>1264</td>\n",
       "      <td>0.002844</td>\n",
       "      <td>0.284398</td>\n",
       "    </tr>\n",
       "    <tr>\n",
       "      <th>4</th>\n",
       "      <td>52867744.0</td>\n",
       "      <td>1207</td>\n",
       "      <td>0.002716</td>\n",
       "      <td>0.271573</td>\n",
       "    </tr>\n",
       "    <tr>\n",
       "      <th>...</th>\n",
       "      <td>...</td>\n",
       "      <td>...</td>\n",
       "      <td>...</td>\n",
       "      <td>...</td>\n",
       "    </tr>\n",
       "    <tr>\n",
       "      <th>15715</th>\n",
       "      <td>62449814.0</td>\n",
       "      <td>1</td>\n",
       "      <td>0.000002</td>\n",
       "      <td>0.000225</td>\n",
       "    </tr>\n",
       "    <tr>\n",
       "      <th>15714</th>\n",
       "      <td>1429448.0</td>\n",
       "      <td>1</td>\n",
       "      <td>0.000002</td>\n",
       "      <td>0.000225</td>\n",
       "    </tr>\n",
       "    <tr>\n",
       "      <th>15713</th>\n",
       "      <td>23883952.0</td>\n",
       "      <td>1</td>\n",
       "      <td>0.000002</td>\n",
       "      <td>0.000225</td>\n",
       "    </tr>\n",
       "    <tr>\n",
       "      <th>15712</th>\n",
       "      <td>54912779</td>\n",
       "      <td>1</td>\n",
       "      <td>0.000002</td>\n",
       "      <td>0.000225</td>\n",
       "    </tr>\n",
       "    <tr>\n",
       "      <th>19046</th>\n",
       "      <td>53525267.0</td>\n",
       "      <td>1</td>\n",
       "      <td>0.000002</td>\n",
       "      <td>0.000225</td>\n",
       "    </tr>\n",
       "  </tbody>\n",
       "</table>\n",
       "<p>19047 rows × 4 columns</p>\n",
       "</div>"
      ],
      "text/plain": [
       "      customer_id  frec_abs  frec_rel  frec_rel (%)\n",
       "0             0.0    234552  0.527738     52.773778\n",
       "1      58859752.0      1661  0.003737      0.373722\n",
       "2      58704610.0      1375  0.003094      0.309373\n",
       "3       7191646.0      1264  0.002844      0.284398\n",
       "4      52867744.0      1207  0.002716      0.271573\n",
       "...           ...       ...       ...           ...\n",
       "15715  62449814.0         1  0.000002      0.000225\n",
       "15714   1429448.0         1  0.000002      0.000225\n",
       "15713  23883952.0         1  0.000002      0.000225\n",
       "15712    54912779         1  0.000002      0.000225\n",
       "19046  53525267.0         1  0.000002      0.000225\n",
       "\n",
       "[19047 rows x 4 columns]"
      ]
     },
     "execution_count": 14,
     "metadata": {},
     "output_type": "execute_result"
    }
   ],
   "source": [
    "prob_customers = pd.DataFrame() # defino mi variable como un DataFrame   \n",
    "prob_customers['frec_abs'] = df['customer_id'].value_counts() # creo un df que tendra los id de cada cliente junto con su frec absoluta\n",
    "prob_customers = prob_customers.reset_index() # como los id me los toma como indices, entonces resetearemos los index para que me lo tome como una columna aparte\n",
    "prob_customers = prob_customers.rename(columns={'index':'customer_id'}) #renombramos la columna que queremos\n",
    "prob_customers ['frec_rel'] = prob_customers['frec_abs']/total_registros\n",
    "prob_customers ['frec_rel (%)'] = prob_customers['frec_abs']*100/total_registros\n",
    "prob_customers.sort_values(by='frec_rel (%)', ascending=False, inplace=True)  # lo dejamos ordenado\n",
    "prob_customers ## Ualá, tenemos un Dataframe que nos muestra las frecuencias absolutas de cada id de cliente\n"
   ]
  },
  {
   "cell_type": "code",
   "execution_count": 15,
   "metadata": {},
   "outputs": [
    {
     "name": "stdout",
     "output_type": "stream",
     "text": [
      "Resumiendo, el 52.77% del total de llamadas son clientes no identificados o potenciales clientes.\n",
      "Mientras que el restante 47.23% del total de llamadas corresponde a clientes que si se logró identificar\n"
     ]
    }
   ],
   "source": [
    "prob_no_id = round(prob_customers['frec_rel'].loc[0] *100,2) # probabilidad de clientes no identificados\n",
    "prob_id = 100 - prob_no_id # probabilidad de clientes identificados\n",
    "\n",
    "print(f'Resumiendo, el {prob_no_id}% del total de llamadas son clientes no identificados o potenciales clientes.')\n",
    "print(f'Mientras que el restante {prob_id}% del total de llamadas corresponde a clientes que si se logró identificar')\n"
   ]
  },
  {
   "attachments": {
    "image-2.png": {
     "image/png": "[encoded data removed]"
    },
    "image.png": {
     "image/png": "[encoded data removed]"
    }
   },
   "cell_type": "markdown",
   "metadata": {},
   "source": [
    "- Analizamos el campo **priority**:\n",
    "\n",
    "![image.png](attachment:image.png)\n",
    "![image-2.png](attachment:image-2.png)"
   ]
  },
  {
   "cell_type": "code",
   "execution_count": 16,
   "metadata": {},
   "outputs": [
    {
     "data": {
      "text/plain": [
       "0         2.0\n",
       "1         0.0\n",
       "2         2.0\n",
       "3         0.0\n",
       "4         0.0\n",
       "         ... \n",
       "444443    0.0\n",
       "444444    0.0\n",
       "444445    0.0\n",
       "444446    0.0\n",
       "444447    0.0\n",
       "Name: priority, Length: 444448, dtype: float64"
      ]
     },
     "execution_count": 16,
     "metadata": {},
     "output_type": "execute_result"
    }
   ],
   "source": [
    "df['priority'] = df['priority'].astype(float)\n",
    "df['priority']"
   ]
  },
  {
   "cell_type": "code",
   "execution_count": 36,
   "metadata": {},
   "outputs": [
    {
     "data": {
      "text/html": [
       "<div>\n",
       "<style scoped>\n",
       "    .dataframe tbody tr th:only-of-type {\n",
       "        vertical-align: middle;\n",
       "    }\n",
       "\n",
       "    .dataframe tbody tr th {\n",
       "        vertical-align: top;\n",
       "    }\n",
       "\n",
       "    .dataframe thead th {\n",
       "        text-align: right;\n",
       "    }\n",
       "</style>\n",
       "<table border=\"1\" class=\"dataframe\">\n",
       "  <thead>\n",
       "    <tr style=\"text-align: right;\">\n",
       "      <th></th>\n",
       "      <th>id</th>\n",
       "      <th>vru.line</th>\n",
       "      <th>call_id</th>\n",
       "      <th>customer_id</th>\n",
       "      <th>type</th>\n",
       "      <th>date</th>\n",
       "      <th>vru_entry</th>\n",
       "      <th>vru_exit</th>\n",
       "      <th>vru_time</th>\n",
       "      <th>q_start</th>\n",
       "      <th>q_exit</th>\n",
       "      <th>q_time</th>\n",
       "      <th>outcome</th>\n",
       "      <th>ser_start</th>\n",
       "      <th>ser_exit</th>\n",
       "      <th>ser_time</th>\n",
       "      <th>server</th>\n",
       "      <th>startdate</th>\n",
       "    </tr>\n",
       "    <tr>\n",
       "      <th>priority</th>\n",
       "      <th></th>\n",
       "      <th></th>\n",
       "      <th></th>\n",
       "      <th></th>\n",
       "      <th></th>\n",
       "      <th></th>\n",
       "      <th></th>\n",
       "      <th></th>\n",
       "      <th></th>\n",
       "      <th></th>\n",
       "      <th></th>\n",
       "      <th></th>\n",
       "      <th></th>\n",
       "      <th></th>\n",
       "      <th></th>\n",
       "      <th></th>\n",
       "      <th></th>\n",
       "      <th></th>\n",
       "    </tr>\n",
       "  </thead>\n",
       "  <tbody>\n",
       "    <tr>\n",
       "      <th>2.0</th>\n",
       "      <td>1375</td>\n",
       "      <td>1375</td>\n",
       "      <td>1375</td>\n",
       "      <td>1375</td>\n",
       "      <td>1375</td>\n",
       "      <td>1375</td>\n",
       "      <td>1375</td>\n",
       "      <td>1375</td>\n",
       "      <td>1375</td>\n",
       "      <td>1375</td>\n",
       "      <td>1375</td>\n",
       "      <td>1375</td>\n",
       "      <td>1375</td>\n",
       "      <td>1375</td>\n",
       "      <td>1375</td>\n",
       "      <td>1375</td>\n",
       "      <td>1375</td>\n",
       "      <td>1375</td>\n",
       "    </tr>\n",
       "  </tbody>\n",
       "</table>\n",
       "</div>"
      ],
      "text/plain": [
       "            id  vru.line  call_id  customer_id  type  date  vru_entry  \\\n",
       "priority                                                                \n",
       "2.0       1375      1375     1375         1375  1375  1375       1375   \n",
       "\n",
       "          vru_exit  vru_time  q_start  q_exit  q_time  outcome  ser_start  \\\n",
       "priority                                                                    \n",
       "2.0           1375      1375     1375    1375    1375     1375       1375   \n",
       "\n",
       "          ser_exit  ser_time  server  startdate  \n",
       "priority                                         \n",
       "2.0           1375      1375    1375       1375  "
      ]
     },
     "execution_count": 36,
     "metadata": {},
     "output_type": "execute_result"
    }
   ],
   "source": [
    "## existe una unica prioridad para cada customer_id??\n",
    "df[(df['priority'] == 0) & (df['customer_id'] != 0)]\n",
    " \n",
    "## vemos que no, entonces vamos a ver si un mismo customer_id tiene mas de una prioridad\n",
    "df[df['customer_id']==58704610.0].groupby('priority').count()\n",
    "## entonces vemos que si, un mismo customer_id puede tener mas de una prioridad"
   ]
  },
  {
   "cell_type": "code",
   "execution_count": 18,
   "metadata": {},
   "outputs": [],
   "source": [
    "prob_priority = pd.DataFrame()\n",
    "prob_priority['priority'] = [0,1,2]\n",
    "prob_priority['frec_abs'] = df['priority'].value_counts().sort_index()\n",
    "prob_priority['frec_rel'] = prob_priority['frec_abs']/total_registros\n",
    "prob_priority['frec_rel (%)'] = prob_priority['frec_rel']*100\n",
    "prob_priority.sort_values(by='frec_abs', ascending=False, inplace=True) # lo dejamos ordenado"
   ]
  },
  {
   "cell_type": "code",
   "execution_count": 37,
   "metadata": {},
   "outputs": [
    {
     "name": "stdout",
     "output_type": "stream",
     "text": [
      "En resumen, el 52.91% del total de registros corresponde a clientes que no fueron identificados, que no esperaron la cola\n",
      "Luego, un 16.16% del total de registros corresponde a clientes regulares\n",
      "Finalmente, un 30.93% del total de registros corresponde a clientes de alta prioridad\n"
     ]
    }
   ],
   "source": [
    "prob_priority_0 = round(prob_priority['frec_rel (%)'].loc[0],2)\n",
    "prob_priority_1 = round(prob_priority['frec_rel (%)'].loc[1],2)\n",
    "prob_priority_2 = round(prob_priority['frec_rel (%)'].loc[2],2)\n",
    "\n",
    "print(f'En resumen, el {prob_priority_0}% del total de registros corresponde a clientes que no fueron identificados o bien no esperaron la cola')\n",
    "print(f'Luego, un {prob_priority_1}% del total de registros corresponde a clientes regulares')\n",
    "print(f'Finalmente, un {prob_priority_2}% del total de registros corresponde a clientes de alta prioridad')"
   ]
  },
  {
   "cell_type": "markdown",
   "metadata": {},
   "source": [
    "- Analizamos el campo **type**:"
   ]
  },
  {
   "attachments": {},
   "cell_type": "markdown",
   "metadata": {},
   "source": [
    "# Vamos de nuevo a nuestro dataset"
   ]
  },
  {
   "cell_type": "code",
   "execution_count": null,
   "metadata": {},
   "outputs": [
    {
     "data": {
      "text/html": [
       "<div>\n",
       "<style scoped>\n",
       "    .dataframe tbody tr th:only-of-type {\n",
       "        vertical-align: middle;\n",
       "    }\n",
       "\n",
       "    .dataframe tbody tr th {\n",
       "        vertical-align: top;\n",
       "    }\n",
       "\n",
       "    .dataframe thead th {\n",
       "        text-align: right;\n",
       "    }\n",
       "</style>\n",
       "<table border=\"1\" class=\"dataframe\">\n",
       "  <thead>\n",
       "    <tr style=\"text-align: right;\">\n",
       "      <th></th>\n",
       "      <th>id_llamada</th>\n",
       "      <th>vru.line</th>\n",
       "      <th>call_id</th>\n",
       "      <th>customer_id</th>\n",
       "      <th>priority</th>\n",
       "      <th>type</th>\n",
       "      <th>date</th>\n",
       "      <th>vru_entry</th>\n",
       "      <th>vru_exit</th>\n",
       "      <th>vru_time</th>\n",
       "      <th>q_start</th>\n",
       "      <th>q_exit</th>\n",
       "      <th>q_time</th>\n",
       "      <th>outcome</th>\n",
       "      <th>ser_start</th>\n",
       "      <th>ser_exit</th>\n",
       "      <th>ser_time</th>\n",
       "      <th>server</th>\n",
       "      <th>startdate</th>\n",
       "    </tr>\n",
       "  </thead>\n",
       "  <tbody>\n",
       "    <tr>\n",
       "      <th>0</th>\n",
       "      <td>AA0101-33116</td>\n",
       "      <td>AA0101</td>\n",
       "      <td>33116</td>\n",
       "      <td>9664491.0</td>\n",
       "      <td>2</td>\n",
       "      <td>PS</td>\n",
       "      <td>1999-01-01</td>\n",
       "      <td>0:00:31</td>\n",
       "      <td>0:00:36</td>\n",
       "      <td>5</td>\n",
       "      <td>0:00:36</td>\n",
       "      <td>0:03:09</td>\n",
       "      <td>153</td>\n",
       "      <td>HANG</td>\n",
       "      <td>0:00:00</td>\n",
       "      <td>0:00:00</td>\n",
       "      <td>0</td>\n",
       "      <td>NO_SERVER</td>\n",
       "      <td>0</td>\n",
       "    </tr>\n",
       "    <tr>\n",
       "      <th>1</th>\n",
       "      <td>AA0101-33117</td>\n",
       "      <td>AA0101</td>\n",
       "      <td>33117</td>\n",
       "      <td>0.0</td>\n",
       "      <td>0</td>\n",
       "      <td>PS</td>\n",
       "      <td>1999-01-01</td>\n",
       "      <td>0:34:12</td>\n",
       "      <td>0:34:23</td>\n",
       "      <td>11</td>\n",
       "      <td>0:00:00</td>\n",
       "      <td>0:00:00</td>\n",
       "      <td>0</td>\n",
       "      <td>HANG</td>\n",
       "      <td>0:00:00</td>\n",
       "      <td>0:00:00</td>\n",
       "      <td>0</td>\n",
       "      <td>NO_SERVER</td>\n",
       "      <td>0</td>\n",
       "    </tr>\n",
       "    <tr>\n",
       "      <th>2</th>\n",
       "      <td>AA0101-33118</td>\n",
       "      <td>AA0101</td>\n",
       "      <td>33118</td>\n",
       "      <td>27997683.0</td>\n",
       "      <td>2</td>\n",
       "      <td>PS</td>\n",
       "      <td>1999-01-01</td>\n",
       "      <td>6:55:20</td>\n",
       "      <td>6:55:26</td>\n",
       "      <td>6</td>\n",
       "      <td>6:55:26</td>\n",
       "      <td>6:55:43</td>\n",
       "      <td>17</td>\n",
       "      <td>AGENT</td>\n",
       "      <td>6:55:43</td>\n",
       "      <td>6:56:37</td>\n",
       "      <td>54</td>\n",
       "      <td>MICHAL</td>\n",
       "      <td>0</td>\n",
       "    </tr>\n",
       "    <tr>\n",
       "      <th>3</th>\n",
       "      <td>AA0101-33119</td>\n",
       "      <td>AA0101</td>\n",
       "      <td>33119</td>\n",
       "      <td>0.0</td>\n",
       "      <td>0</td>\n",
       "      <td>PS</td>\n",
       "      <td>1999-01-01</td>\n",
       "      <td>7:41:16</td>\n",
       "      <td>7:41:26</td>\n",
       "      <td>10</td>\n",
       "      <td>0:00:00</td>\n",
       "      <td>0:00:00</td>\n",
       "      <td>0</td>\n",
       "      <td>AGENT</td>\n",
       "      <td>7:41:25</td>\n",
       "      <td>7:44:53</td>\n",
       "      <td>208</td>\n",
       "      <td>BASCH</td>\n",
       "      <td>0</td>\n",
       "    </tr>\n",
       "  </tbody>\n",
       "</table>\n",
       "</div>"
      ],
      "text/plain": [
       "     id_llamada vru.line call_id customer_id  priority type        date  \\\n",
       "0  AA0101-33116   AA0101   33116   9664491.0         2   PS  1999-01-01   \n",
       "1  AA0101-33117   AA0101   33117         0.0         0   PS  1999-01-01   \n",
       "2  AA0101-33118   AA0101   33118  27997683.0         2   PS  1999-01-01   \n",
       "3  AA0101-33119   AA0101   33119         0.0         0   PS  1999-01-01   \n",
       "\n",
       "  vru_entry vru_exit  vru_time  q_start   q_exit  q_time outcome ser_start  \\\n",
       "0   0:00:31  0:00:36         5  0:00:36  0:03:09     153    HANG   0:00:00   \n",
       "1   0:34:12  0:34:23        11  0:00:00  0:00:00       0    HANG   0:00:00   \n",
       "2   6:55:20  6:55:26         6  6:55:26  6:55:43      17   AGENT   6:55:43   \n",
       "3   7:41:16  7:41:26        10  0:00:00  0:00:00       0   AGENT   7:41:25   \n",
       "\n",
       "  ser_exit  ser_time     server  startdate  \n",
       "0  0:00:00         0  NO_SERVER          0  \n",
       "1  0:00:00         0  NO_SERVER          0  \n",
       "2  6:56:37        54     MICHAL          0  \n",
       "3  7:44:53       208      BASCH          0  "
      ]
     },
     "execution_count": 18,
     "metadata": {},
     "output_type": "execute_result"
    }
   ],
   "source": [
    "df.head(4)"
   ]
  },
  {
   "attachments": {},
   "cell_type": "markdown",
   "metadata": {},
   "source": [
    "Seguiremos con la columna **'type'**"
   ]
  },
  {
   "cell_type": "code",
   "execution_count": null,
   "metadata": {},
   "outputs": [
    {
     "data": {
      "text/plain": [
       "PS     302522\n",
       "NW      67728\n",
       "NE      39342\n",
       "IN      20732\n",
       "TT      12289\n",
       "PE       1824\n",
       " TT         6\n",
       "AA          5\n",
       "Name: type, dtype: int64"
      ]
     },
     "execution_count": 19,
     "metadata": {},
     "output_type": "execute_result"
    }
   ],
   "source": [
    "df['type'].value_counts()"
   ]
  },
  {
   "attachments": {},
   "cell_type": "markdown",
   "metadata": {},
   "source": [
    "Notemos que tenemos un problema, tenemos un campo llamado 'TT' y otro llamado ' TT', deberemos homogeneizar estos valores para no transmitir datos erroneos."
   ]
  },
  {
   "cell_type": "code",
   "execution_count": null,
   "metadata": {},
   "outputs": [
    {
     "data": {
      "text/plain": [
       "PS    302522\n",
       "NW     67728\n",
       "NE     39342\n",
       "IN     20732\n",
       "TT     12295\n",
       "PE      1824\n",
       "AA         5\n",
       "Name: type, dtype: int64"
      ]
     },
     "execution_count": 20,
     "metadata": {},
     "output_type": "execute_result"
    }
   ],
   "source": [
    "df['type'].replace(' TT', 'TT', inplace=True)\n",
    "df['type'].value_counts()"
   ]
  },
  {
   "attachments": {},
   "cell_type": "markdown",
   "metadata": {},
   "source": [
    "Con el codigo anterior ya hemos homogeneizado los valores **'TT'** y **' TT'**"
   ]
  },
  {
   "attachments": {},
   "cell_type": "markdown",
   "metadata": {},
   "source": [
    "Ahora ya podemos hacer una tabla con los valores de frecuencia absoluta y frecuencia relativa de cada valor"
   ]
  },
  {
   "cell_type": "code",
   "execution_count": null,
   "metadata": {},
   "outputs": [
    {
     "ename": "TypeError",
     "evalue": "'str' object is not callable",
     "output_type": "error",
     "traceback": [
      "\u001b[1;31m---------------------------------------------------------------------------\u001b[0m",
      "\u001b[1;31mTypeError\u001b[0m                                 Traceback (most recent call last)",
      "Cell \u001b[1;32mIn[39], line 4\u001b[0m\n\u001b[0;32m      2\u001b[0m lista \u001b[39m=\u001b[39m []\n\u001b[0;32m      3\u001b[0m ind \u001b[39m=\u001b[39m \u001b[39m123\u001b[39m\n\u001b[1;32m----> 4\u001b[0m \u001b[39mtype\u001b[39;49m(\u001b[39m23\u001b[39;49m)\n\u001b[0;32m      6\u001b[0m \u001b[39m# for type_aux in unique_types:\u001b[39;00m\n\u001b[0;32m      7\u001b[0m \n\u001b[0;32m      8\u001b[0m \u001b[39m#     for i in df['type']:\u001b[39;00m\n\u001b[1;32m   (...)\u001b[0m\n\u001b[0;32m     14\u001b[0m \n\u001b[0;32m     15\u001b[0m \u001b[39m# lista\u001b[39;00m\n",
      "\u001b[1;31mTypeError\u001b[0m: 'str' object is not callable"
     ]
    }
   ],
   "source": [
    "unique_types = df['type'].unique()\n",
    "lista = []\n",
    "ind = 123\n",
    "type(23)\n",
    "\n",
    "# for type_aux in unique_types:\n",
    "\n",
    "#     for i in df['type']:\n",
    "#         if (type_aux == i):              \n",
    "#               lista[ind] += 1\n",
    "#         else:\n",
    "#              continue\n",
    "#     ind =+ 1\n",
    "\n",
    "# lista\n"
   ]
  }
 ],
 "metadata": {
  "kernelspec": {
   "display_name": "Python 3",
   "language": "python",
   "name": "python3"
  },
  "language_info": {
   "codemirror_mode": {
    "name": "ipython",
    "version": 3
   },
   "file_extension": ".py",
   "mimetype": "text/x-python",
   "name": "python",
   "nbconvert_exporter": "python",
   "pygments_lexer": "ipython3",
   "version": "3.11.1"
  },
  "orig_nbformat": 4
 },
 "nbformat": 4,
 "nbformat_minor": 2
}
